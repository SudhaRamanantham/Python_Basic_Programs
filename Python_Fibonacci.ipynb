{
 "cells": [
  {
   "cell_type": "code",
   "execution_count": 1,
   "id": "d524c4df",
   "metadata": {},
   "outputs": [
    {
     "name": "stdout",
     "output_type": "stream",
     "text": [
      "Enter a number: 10\n",
      "Fibonacci Sequence:\n",
      "0\n",
      "1\n",
      "1\n",
      "2\n",
      "3\n",
      "5\n",
      "8\n",
      "13\n",
      "21\n",
      "34\n"
     ]
    }
   ],
   "source": [
    "# Fibonacci Sequence\n",
    "\n",
    "def iterative_Fibonacci(n):\n",
    "    \n",
    "    previous,current=0,1\n",
    "    if n<=0:\n",
    "        print('Invalid Number.')\n",
    "    elif n==1:\n",
    "        print(previous)\n",
    "    else:\n",
    "        print(previous)\n",
    "        print(current)\n",
    "        \n",
    "    for i in range(2,n):\n",
    "        nextTerm=current+previous\n",
    "        previous=current\n",
    "        current=nextTerm\n",
    "        print(nextTerm)\n",
    "        \n",
    "num=int(input('Enter a number: '))\n",
    "print('Fibonacci Sequence:')\n",
    "iterative_Fibonacci(num)"
   ]
  },
  {
   "cell_type": "code",
   "execution_count": 2,
   "id": "b465a5f6",
   "metadata": {},
   "outputs": [
    {
     "name": "stdout",
     "output_type": "stream",
     "text": [
      "Enter a number: 10\n",
      "Recursive Fibonacci sequence:\n",
      "0\n",
      "1\n",
      "1\n",
      "2\n",
      "3\n",
      "5\n",
      "8\n",
      "13\n",
      "21\n",
      "34\n"
     ]
    }
   ],
   "source": [
    "# Recursive Fibonacci Sequence\n",
    "\n",
    "def recur_fib(n):\n",
    "   if n <= 1:\n",
    "       return n\n",
    "   else:\n",
    "       return(recur_fib(n-1) + recur_fib(n-2))\n",
    "\n",
    "num=int(input('Enter a number: '))\n",
    "\n",
    "# check if the number of terms is valid\n",
    "if num <= 0:\n",
    "   print(\"Invalid number.\")\n",
    "else:\n",
    "   print(\"Recursive Fibonacci sequence:\")\n",
    "   for i in range(num):\n",
    "       print(recur_fib(i))"
   ]
  },
  {
   "cell_type": "code",
   "execution_count": 3,
   "id": "1ba1c113",
   "metadata": {},
   "outputs": [
    {
     "name": "stdout",
     "output_type": "stream",
     "text": [
      "Enter a number: 10\n",
      "10th Fibonacci number: 34\n"
     ]
    }
   ],
   "source": [
    "# nth Fibonacci number\n",
    "\n",
    "def iterative_Fibonacci(n):\n",
    "    previous,current=0,1\n",
    "    if n<=0:\n",
    "        return ('Invalid Number.')\n",
    "    elif n==1:\n",
    "        return (previous)\n",
    "    else:\n",
    "        for i in range(2,n):\n",
    "            nextTerm=current+previous\n",
    "            previous=current\n",
    "            current=nextTerm\n",
    "        return(current)\n",
    "num=int(input('Enter a number: '))\n",
    "\n",
    "print(f'{num}th Fibonacci number: {iterative_Fibonacci(num)}')"
   ]
  }
 ],
 "metadata": {
  "kernelspec": {
   "display_name": "Python 3 (ipykernel)",
   "language": "python",
   "name": "python3"
  },
  "language_info": {
   "codemirror_mode": {
    "name": "ipython",
    "version": 3
   },
   "file_extension": ".py",
   "mimetype": "text/x-python",
   "name": "python",
   "nbconvert_exporter": "python",
   "pygments_lexer": "ipython3",
   "version": "3.9.7"
  }
 },
 "nbformat": 4,
 "nbformat_minor": 5
}
