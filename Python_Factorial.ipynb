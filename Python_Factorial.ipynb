{
 "cells": [
  {
   "cell_type": "code",
   "execution_count": 1,
   "id": "932b998e",
   "metadata": {},
   "outputs": [
    {
     "name": "stdout",
     "output_type": "stream",
     "text": [
      "Simple method to find factorial:\n",
      "Enter a value to find its factorial: 5\n",
      "Facotial of 5! : 120\n"
     ]
    }
   ],
   "source": [
    "print('Simple method to find factorial:')\n",
    "\n",
    "def factorial(value):\n",
    "    answer=1\n",
    "    for i in range(value):\n",
    "        answer=answer*(i+1)\n",
    "    print(f'Facotial of {value}! : {answer}')\n",
    "\n",
    "input_Value=int(input('Enter a value to find its factorial: '))\n",
    "factorial(input_Value)"
   ]
  },
  {
   "cell_type": "code",
   "execution_count": 2,
   "id": "d5ad942a",
   "metadata": {},
   "outputs": [
    {
     "name": "stdout",
     "output_type": "stream",
     "text": [
      "Recursive method to find factorial:\n",
      "Enter a value to find its factorial: 5\n",
      "Facotial of 5! : 120\n"
     ]
    }
   ],
   "source": [
    "print('Recursive method to find factorial:')\n",
    "\n",
    "def rec_factorial(value):\n",
    "    if value<=1:\n",
    "        return 1\n",
    "    else:\n",
    "        return value*rec_factorial(value-1)\n",
    "        \n",
    "input_Value=int(input('Enter a value to find its factorial: '))\n",
    "print(f'Facotial of {input_Value}! : {rec_factorial(input_Value)}')"
   ]
  }
 ],
 "metadata": {
  "kernelspec": {
   "display_name": "Python 3 (ipykernel)",
   "language": "python",
   "name": "python3"
  },
  "language_info": {
   "codemirror_mode": {
    "name": "ipython",
    "version": 3
   },
   "file_extension": ".py",
   "mimetype": "text/x-python",
   "name": "python",
   "nbconvert_exporter": "python",
   "pygments_lexer": "ipython3",
   "version": "3.9.7"
  }
 },
 "nbformat": 4,
 "nbformat_minor": 5
}
